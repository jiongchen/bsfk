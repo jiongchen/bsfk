{
 "cells": [
  {
   "cell_type": "markdown",
   "metadata": {},
   "source": [
    "Suppose that a time variant function $u:[0,T]\\times \\mathbb{R}\\rightarrow \\mathbb{R}$ satisfies a parabolic partial differential equation\n",
    "$$\n",
    "\\partial_t u + \\mu(x, t)\\partial_x u+\\frac{1}{2}\\sigma^2(x,t)\\partial_{xx}^2 u-V(x,t)u + f(x,t) = 0,\n",
    "$$\n",
    "with the termination condition\n",
    "$$\n",
    "u(x, T) = \\varphi(x).\n",
    "$$\n",
    "The Feynman-Kac formula reveals a surprising connection between PDEs and stochastic processes, by expressing the solution of above equation in a conditional expectation of a series of random walks, namely\n",
    "$$\n",
    "u(x,t) = \\mathbb{E}\\left[ \\left. \\int_t^T e^{-\\int_t^r V(X_\\tau, \\tau) d\\tau}\n",
    "f(X_r, r)dr +  e^{-\\int_r^T V(X_\\tau, \\tau)d\\tau }\\varphi(X_T) \\right\\vert X_t = x\\right],\n",
    "$$\n",
    "where $X_t$ is a stochastic process (a.k.a Ito process) governed by a\n",
    "stochastic partial differential equation (SPDE)\n",
    "$$\n",
    "dX_t =\\mu(X,t)dt + \\sigma(X,t)dW,\n",
    "$$\n",
    "where $W(t)$ is a Wiener process.\n",
    "\n",
    "\n",
    "In financial theory, the celebrated Black-Scholes equation is also a parabolic PDE, which is used to describe how the \n",
    "price of an European-style option is evolved over time subject to the stock's price. Its dynamics is formulated by\n",
    "$$\n",
    "\\partial_t V + \\frac{1}{2}\\sigma^2S^2\\partial^2_{SS}V + rS \\partial_S V -rV = 0,\n",
    "$$\n",
    "where $V(t)$ and $S(t)$ denote the price of an option and current stock respectively. The constant $r$ represents for the risk-free interest rate, while $\\sigma$ is the standard derivation of stock's returns. The termination condition for a call option is put as\n",
    "$$\n",
    "\\varphi(S, T) = \\max(S-K, 0),\n",
    "$$\n",
    "where $T$ is the expiration date and $K$ is the strike price. Solving Black-Scholes with this condition eventually leads to the Black-Scholes formula for pricing a call option, i.e.\n",
    "$$\n",
    "V(S, t) = SN(d_1)-Ke^{-r(T-t)}N(d_2),\n",
    "$$\n",
    "with\n",
    "$$\n",
    "d_1 = \\frac{\\frac{\\ln S}{K}+(r+\\frac{\\sigma^2}{2})(T-t)}{\\sigma\\sqrt{T-t}}, d_2 = d_1-\\sigma \\sqrt{T-t},\n",
    "$$\n",
    "and $N$ is the standard normal distribution function.\n",
    "\n",
    "On the other side, we note that the BS equation can be also numerically solved using Monte Carlo method by applying above Feynman-Kac formula. Regarding a constant $V$ and a vanishing $f$ suggested by the BS equation, the ultimate pricing solution of a call option can be written as\n",
    "$$\n",
    "V(S, t) = e^{-r(T-t)}\\mathbb{E}[\\varphi(S_T)|S_t=S],\n",
    "$$\n",
    "where the stochastic process $S_t$ is driven by\n",
    "$$\n",
    "dS_t = rS_tdt + \\sigma S_t dW,\n",
    "$$\n",
    "which is generally referred to a geometric Brownian motion with drift $r$ and volatility $\\sigma$."
   ]
  },
  {
   "cell_type": "code",
   "execution_count": 1,
   "metadata": {},
   "outputs": [],
   "source": [
    "import numpy as np\n",
    "import matplotlib.pyplot as plt\n",
    "import math\n",
    "\n",
    "sigma = 0.4 # volatility\n",
    "r = 0.02    # risk-free interest rate  \n",
    "K = 140     # strike price\n",
    "T = 1.0     # expiration date\n",
    "\n",
    "h = 0.001   # time step for MC simulation"
   ]
  },
  {
   "cell_type": "code",
   "execution_count": 2,
   "metadata": {},
   "outputs": [],
   "source": [
    "def N(x):\n",
    "    \"\"\" standard normal distribution function \"\"\"\n",
    "    return 0.5*(1.0+math.erf(x/np.sqrt(2.0)))"
   ]
  },
  {
   "cell_type": "code",
   "execution_count": 3,
   "metadata": {},
   "outputs": [],
   "source": [
    "def varphi(x):\n",
    "    \"\"\" call option termination condition \"\"\"\n",
    "    return max(x-K, 0)"
   ]
  },
  {
   "cell_type": "code",
   "execution_count": 4,
   "metadata": {},
   "outputs": [],
   "source": [
    "def BS_formula(S, t):\n",
    "    \"\"\" Black-Scholes formula \"\"\"\n",
    "    d1 = (np.log(S/K)+(r+0.5*sigma**2)*(T-t))/(sigma*np.sqrt(T-t))\n",
    "    d2 = d1-sigma*np.sqrt(T-t)\n",
    "    return S*N(d1)-K*np.exp(-r*(T-t))*N(d2)"
   ]
  },
  {
   "cell_type": "code",
   "execution_count": 5,
   "metadata": {},
   "outputs": [
    {
     "data": {
      "text/plain": [
       "[<matplotlib.lines.Line2D at 0x11d944a30>]"
      ]
     },
     "execution_count": 5,
     "metadata": {},
     "output_type": "execute_result"
    },
    {
     "data": {
      "image/png": "[encoded data removed]",
      "text/plain": [
       "<Figure size 432x288 with 1 Axes>"
      ]
     },
     "metadata": {
      "needs_background": "light"
     },
     "output_type": "display_data"
    }
   ],
   "source": [
    "t = 0.1\n",
    "S = np.linspace(0.5, 150, 20)\n",
    "\n",
    "BS_formula_v = np.vectorize(BS_formula)\n",
    "V = BS_formula_v(S, t)\n",
    "plt.plot(V)"
   ]
  },
  {
   "cell_type": "code",
   "execution_count": 6,
   "metadata": {},
   "outputs": [],
   "source": [
    "def sim_GBM_walk(S, t):\n",
    "    \"\"\"simuate a path of geometric Brownian motion\"\"\"\n",
    "    curr_S = S\n",
    "    curr_t = t\n",
    "    while curr_t < T:\n",
    "        rd = np.random.normal(0, 1)\n",
    "        curr_S = curr_S*np.exp((r-0.5*sigma**2)*h+sigma*np.sqrt(h)*rd)\n",
    "        curr_t += h\n",
    "    return varphi(curr_S)"
   ]
  },
  {
   "cell_type": "code",
   "execution_count": 7,
   "metadata": {},
   "outputs": [
    {
     "data": {
      "text/plain": [
       "[<matplotlib.lines.Line2D at 0x11da51520>]"
      ]
     },
     "execution_count": 7,
     "metadata": {},
     "output_type": "execute_result"
    },
    {
     "data": {
      "image/png": "[encoded data removed]",
      "text/plain": [
       "<Figure size 432x288 with 1 Axes>"
      ]
     },
     "metadata": {
      "needs_background": "light"
     },
     "output_type": "display_data"
    }
   ],
   "source": [
    "def MC_simulate(S, t, iters):\n",
    "    \"\"\"Monte Carlo integration\"\"\"\n",
    "    return np.exp(-r*(T-t))*np.mean([sim_GBM_walk(S, t) for k in range(0, iters)])\n",
    "\n",
    "MC_simulate_v = np.vectorize(MC_simulate)\n",
    "VV = MC_simulate_v(S, t, 1000)\n",
    "plt.plot(VV)"
   ]
  }
 ],
 "metadata": {
  "kernelspec": {
   "display_name": "Python 3",
   "language": "python",
   "name": "python3"
  },
  "language_info": {
   "codemirror_mode": {
    "name": "ipython",
    "version": 3
   },
   "file_extension": ".py",
   "mimetype": "text/x-python",
   "name": "python",
   "nbconvert_exporter": "python",
   "pygments_lexer": "ipython3",
   "version": "3.8.3"
  }
 },
 "nbformat": 4,
 "nbformat_minor": 4
}
